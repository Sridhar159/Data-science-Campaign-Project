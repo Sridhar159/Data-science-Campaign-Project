{
 "cells": [
  {
   "cell_type": "markdown",
   "metadata": {},
   "source": [
    " Problem statement:\n",
    "\n",
    "You will work on a a dataset about diabetes hospital re-admittance. The dataset is available via canvas as part of this assignment. Diabetes is the condition when the body loses its ability to process glucose. It is often associated with overconsumption of food, and obesity. But there are also genetic factors that can cause the disease.\n",
    "\n",
    "The dataset is a CSV file.\n",
    "\n",
    "It contains seven features. It also contains one dependent variable, 'Outcome'.\n",
    "\n",
    "Task 1 - Load the data (5 marks) Use pandas to load the provided csv file.\n",
    "\n",
    "Use the DataFrame.head command to show the first 10 rows of the data set"
   ]
  },
  {
   "cell_type": "code",
   "execution_count": 30,
   "metadata": {},
   "outputs": [
    {
     "data": {
      "text/html": [
       "<div>\n",
       "<style scoped>\n",
       "    .dataframe tbody tr th:only-of-type {\n",
       "        vertical-align: middle;\n",
       "    }\n",
       "\n",
       "    .dataframe tbody tr th {\n",
       "        vertical-align: top;\n",
       "    }\n",
       "\n",
       "    .dataframe thead th {\n",
       "        text-align: right;\n",
       "    }\n",
       "</style>\n",
       "<table border=\"1\" class=\"dataframe\">\n",
       "  <thead>\n",
       "    <tr style=\"text-align: right;\">\n",
       "      <th></th>\n",
       "      <th>no. pregnancies</th>\n",
       "      <th>blood glucose level</th>\n",
       "      <th>blood pressure</th>\n",
       "      <th>thickness of skin</th>\n",
       "      <th>insulin level</th>\n",
       "      <th>body mass index</th>\n",
       "      <th>Age</th>\n",
       "      <th>Outcome</th>\n",
       "    </tr>\n",
       "  </thead>\n",
       "  <tbody>\n",
       "    <tr>\n",
       "      <th>0</th>\n",
       "      <td>6</td>\n",
       "      <td>148</td>\n",
       "      <td>72</td>\n",
       "      <td>35</td>\n",
       "      <td>0</td>\n",
       "      <td>33.6</td>\n",
       "      <td>50</td>\n",
       "      <td>1</td>\n",
       "    </tr>\n",
       "    <tr>\n",
       "      <th>1</th>\n",
       "      <td>1</td>\n",
       "      <td>85</td>\n",
       "      <td>66</td>\n",
       "      <td>29</td>\n",
       "      <td>0</td>\n",
       "      <td>26.6</td>\n",
       "      <td>31</td>\n",
       "      <td>0</td>\n",
       "    </tr>\n",
       "    <tr>\n",
       "      <th>2</th>\n",
       "      <td>8</td>\n",
       "      <td>183</td>\n",
       "      <td>64</td>\n",
       "      <td>0</td>\n",
       "      <td>0</td>\n",
       "      <td>23.3</td>\n",
       "      <td>32</td>\n",
       "      <td>1</td>\n",
       "    </tr>\n",
       "    <tr>\n",
       "      <th>3</th>\n",
       "      <td>1</td>\n",
       "      <td>89</td>\n",
       "      <td>66</td>\n",
       "      <td>23</td>\n",
       "      <td>94</td>\n",
       "      <td>28.1</td>\n",
       "      <td>21</td>\n",
       "      <td>0</td>\n",
       "    </tr>\n",
       "    <tr>\n",
       "      <th>4</th>\n",
       "      <td>0</td>\n",
       "      <td>137</td>\n",
       "      <td>40</td>\n",
       "      <td>35</td>\n",
       "      <td>168</td>\n",
       "      <td>43.1</td>\n",
       "      <td>33</td>\n",
       "      <td>1</td>\n",
       "    </tr>\n",
       "    <tr>\n",
       "      <th>5</th>\n",
       "      <td>5</td>\n",
       "      <td>116</td>\n",
       "      <td>74</td>\n",
       "      <td>0</td>\n",
       "      <td>0</td>\n",
       "      <td>25.6</td>\n",
       "      <td>30</td>\n",
       "      <td>0</td>\n",
       "    </tr>\n",
       "    <tr>\n",
       "      <th>6</th>\n",
       "      <td>3</td>\n",
       "      <td>78</td>\n",
       "      <td>50</td>\n",
       "      <td>32</td>\n",
       "      <td>88</td>\n",
       "      <td>31.0</td>\n",
       "      <td>26</td>\n",
       "      <td>1</td>\n",
       "    </tr>\n",
       "    <tr>\n",
       "      <th>7</th>\n",
       "      <td>10</td>\n",
       "      <td>115</td>\n",
       "      <td>0</td>\n",
       "      <td>0</td>\n",
       "      <td>0</td>\n",
       "      <td>35.3</td>\n",
       "      <td>29</td>\n",
       "      <td>0</td>\n",
       "    </tr>\n",
       "    <tr>\n",
       "      <th>8</th>\n",
       "      <td>2</td>\n",
       "      <td>197</td>\n",
       "      <td>70</td>\n",
       "      <td>45</td>\n",
       "      <td>543</td>\n",
       "      <td>30.5</td>\n",
       "      <td>53</td>\n",
       "      <td>1</td>\n",
       "    </tr>\n",
       "    <tr>\n",
       "      <th>9</th>\n",
       "      <td>8</td>\n",
       "      <td>125</td>\n",
       "      <td>96</td>\n",
       "      <td>0</td>\n",
       "      <td>0</td>\n",
       "      <td>0.0</td>\n",
       "      <td>54</td>\n",
       "      <td>1</td>\n",
       "    </tr>\n",
       "  </tbody>\n",
       "</table>\n",
       "</div>"
      ],
      "text/plain": [
       "   no. pregnancies  blood glucose level  blood pressure  thickness of skin  \\\n",
       "0                6                  148              72                 35   \n",
       "1                1                   85              66                 29   \n",
       "2                8                  183              64                  0   \n",
       "3                1                   89              66                 23   \n",
       "4                0                  137              40                 35   \n",
       "5                5                  116              74                  0   \n",
       "6                3                   78              50                 32   \n",
       "7               10                  115               0                  0   \n",
       "8                2                  197              70                 45   \n",
       "9                8                  125              96                  0   \n",
       "\n",
       "   insulin level  body mass index  Age  Outcome  \n",
       "0              0             33.6   50        1  \n",
       "1              0             26.6   31        0  \n",
       "2              0             23.3   32        1  \n",
       "3             94             28.1   21        0  \n",
       "4            168             43.1   33        1  \n",
       "5              0             25.6   30        0  \n",
       "6             88             31.0   26        1  \n",
       "7              0             35.3   29        0  \n",
       "8            543             30.5   53        1  \n",
       "9              0              0.0   54        1  "
      ]
     },
     "execution_count": 30,
     "metadata": {},
     "output_type": "execute_result"
    }
   ],
   "source": [
    "import pandas as pd \n",
    "import numpy as np\n",
    "import matplotlib.pyplot as plt\n",
    "DataFrame = pd.read_csv(\"diabetes_assignment.csv\")\n",
    "X = DataFrame.iloc[:,:-1]\n",
    "y = DataFrame.iloc[:,-1].values\n",
    "DataFrame.head(10)"
   ]
  },
  {
   "cell_type": "code",
   "execution_count": null,
   "metadata": {},
   "outputs": [],
   "source": []
  },
  {
   "cell_type": "markdown",
   "metadata": {},
   "source": [
    "Task 2 - Normalisation and PCA (20 marks) Perform a PCA on the data set. Perform the PCA on the correlation matrix, not the covariance matrix. Exclude the dependent variable from processing. The result should contain the maximum number of Principal Components possible.\n",
    "\n",
    "Make a DataFrame that contains the result of the PCA in the first n columns, n being the number of Principal Components. Columns should be named \"PC 1\" to \"PC n\". The last column of the data frame should contain the unprocessed dependent variable. Name the column according to the dependent variable.\n",
    "\n",
    "Use the DataFrame.head function to display the 10 first rows of the dataset'"
   ]
  },
  {
   "cell_type": "code",
   "execution_count": 31,
   "metadata": {},
   "outputs": [
    {
     "data": {
      "text/html": [
       "<div>\n",
       "<style scoped>\n",
       "    .dataframe tbody tr th:only-of-type {\n",
       "        vertical-align: middle;\n",
       "    }\n",
       "\n",
       "    .dataframe tbody tr th {\n",
       "        vertical-align: top;\n",
       "    }\n",
       "\n",
       "    .dataframe thead th {\n",
       "        text-align: right;\n",
       "    }\n",
       "</style>\n",
       "<table border=\"1\" class=\"dataframe\">\n",
       "  <thead>\n",
       "    <tr style=\"text-align: right;\">\n",
       "      <th></th>\n",
       "      <th>no. pregnancies</th>\n",
       "      <th>blood glucose level</th>\n",
       "      <th>blood pressure</th>\n",
       "      <th>thickness of skin</th>\n",
       "      <th>insulin level</th>\n",
       "      <th>body mass index</th>\n",
       "      <th>Age</th>\n",
       "    </tr>\n",
       "  </thead>\n",
       "  <tbody>\n",
       "    <tr>\n",
       "      <th>no. pregnancies</th>\n",
       "      <td>1.000000</td>\n",
       "      <td>0.129459</td>\n",
       "      <td>0.141282</td>\n",
       "      <td>-0.081672</td>\n",
       "      <td>-0.073535</td>\n",
       "      <td>0.017683</td>\n",
       "      <td>0.544341</td>\n",
       "    </tr>\n",
       "    <tr>\n",
       "      <th>blood glucose level</th>\n",
       "      <td>0.129459</td>\n",
       "      <td>1.000000</td>\n",
       "      <td>0.152590</td>\n",
       "      <td>0.057328</td>\n",
       "      <td>0.331357</td>\n",
       "      <td>0.221071</td>\n",
       "      <td>0.263514</td>\n",
       "    </tr>\n",
       "    <tr>\n",
       "      <th>blood pressure</th>\n",
       "      <td>0.141282</td>\n",
       "      <td>0.152590</td>\n",
       "      <td>1.000000</td>\n",
       "      <td>0.207371</td>\n",
       "      <td>0.088933</td>\n",
       "      <td>0.281805</td>\n",
       "      <td>0.239528</td>\n",
       "    </tr>\n",
       "    <tr>\n",
       "      <th>thickness of skin</th>\n",
       "      <td>-0.081672</td>\n",
       "      <td>0.057328</td>\n",
       "      <td>0.207371</td>\n",
       "      <td>1.000000</td>\n",
       "      <td>0.436783</td>\n",
       "      <td>0.392573</td>\n",
       "      <td>-0.113970</td>\n",
       "    </tr>\n",
       "    <tr>\n",
       "      <th>insulin level</th>\n",
       "      <td>-0.073535</td>\n",
       "      <td>0.331357</td>\n",
       "      <td>0.088933</td>\n",
       "      <td>0.436783</td>\n",
       "      <td>1.000000</td>\n",
       "      <td>0.197859</td>\n",
       "      <td>-0.042163</td>\n",
       "    </tr>\n",
       "    <tr>\n",
       "      <th>body mass index</th>\n",
       "      <td>0.017683</td>\n",
       "      <td>0.221071</td>\n",
       "      <td>0.281805</td>\n",
       "      <td>0.392573</td>\n",
       "      <td>0.197859</td>\n",
       "      <td>1.000000</td>\n",
       "      <td>0.036242</td>\n",
       "    </tr>\n",
       "    <tr>\n",
       "      <th>Age</th>\n",
       "      <td>0.544341</td>\n",
       "      <td>0.263514</td>\n",
       "      <td>0.239528</td>\n",
       "      <td>-0.113970</td>\n",
       "      <td>-0.042163</td>\n",
       "      <td>0.036242</td>\n",
       "      <td>1.000000</td>\n",
       "    </tr>\n",
       "  </tbody>\n",
       "</table>\n",
       "</div>"
      ],
      "text/plain": [
       "                     no. pregnancies  blood glucose level  blood pressure  \\\n",
       "no. pregnancies             1.000000             0.129459        0.141282   \n",
       "blood glucose level         0.129459             1.000000        0.152590   \n",
       "blood pressure              0.141282             0.152590        1.000000   \n",
       "thickness of skin          -0.081672             0.057328        0.207371   \n",
       "insulin level              -0.073535             0.331357        0.088933   \n",
       "body mass index             0.017683             0.221071        0.281805   \n",
       "Age                         0.544341             0.263514        0.239528   \n",
       "\n",
       "                     thickness of skin  insulin level  body mass index  \\\n",
       "no. pregnancies              -0.081672      -0.073535         0.017683   \n",
       "blood glucose level           0.057328       0.331357         0.221071   \n",
       "blood pressure                0.207371       0.088933         0.281805   \n",
       "thickness of skin             1.000000       0.436783         0.392573   \n",
       "insulin level                 0.436783       1.000000         0.197859   \n",
       "body mass index               0.392573       0.197859         1.000000   \n",
       "Age                          -0.113970      -0.042163         0.036242   \n",
       "\n",
       "                          Age  \n",
       "no. pregnancies      0.544341  \n",
       "blood glucose level  0.263514  \n",
       "blood pressure       0.239528  \n",
       "thickness of skin   -0.113970  \n",
       "insulin level       -0.042163  \n",
       "body mass index      0.036242  \n",
       "Age                  1.000000  "
      ]
     },
     "execution_count": 31,
     "metadata": {},
     "output_type": "execute_result"
    }
   ],
   "source": [
    "X.corr()"
   ]
  },
  {
   "cell_type": "code",
   "execution_count": 32,
   "metadata": {},
   "outputs": [
    {
     "data": {
      "text/plain": [
       "StandardScaler()"
      ]
     },
     "execution_count": 32,
     "metadata": {},
     "output_type": "execute_result"
    }
   ],
   "source": [
    "#Normalisation\n",
    "from sklearn.preprocessing import StandardScaler\n",
    "sc = StandardScaler()\n",
    "sc.fit(X)"
   ]
  },
  {
   "cell_type": "code",
   "execution_count": 33,
   "metadata": {},
   "outputs": [],
   "source": [
    "#Applying PCA\n",
    "\n",
    "from sklearn.decomposition import PCA\n",
    "pca = PCA(n_components=7)\n",
    "pc = pca.fit_transform(X)\n",
    "Data = pd.DataFrame(data = pc\n",
    "             , columns = ['PC1', 'PC2', 'PC3', 'PC4', 'PC5', 'PC6', 'PC7'])"
   ]
  },
  {
   "cell_type": "code",
   "execution_count": 34,
   "metadata": {},
   "outputs": [
    {
     "name": "stdout",
     "output_type": "stream",
     "text": [
      "          PC1        PC2        PC3        PC4        PC5        PC6       PC7\n",
      "0  -75.714751 -35.950617  -7.260662  15.668831  16.506475   3.460571 -0.701447\n",
      "1  -82.358214  28.908171  -5.496678   9.004717   3.481724   5.590084 -2.572537\n",
      "2  -74.630763 -67.906334  19.461890  -5.653530 -10.300486   7.144867  4.280729\n",
      "3   11.077589  34.898242  -0.053187   1.315667  -7.618948   2.583326 -0.811533\n",
      "4   89.742825  -2.745493  25.214031  18.989387   8.519943  -9.483560 -3.615757\n",
      "5  -80.977788  -3.947083   0.641216 -15.117113  -8.976745   2.314437  1.568356\n",
      "6    4.351082  46.933747   9.183339  11.509848   4.371940  -0.056943  0.338941\n",
      "7  -82.137124   7.097700  67.488848   6.131683   8.337363 -12.760238  6.727547\n",
      "8  468.866624 -31.528750  10.056674  -5.988090  17.256607   7.662648 -4.314021\n",
      "9  -80.193733 -18.048461 -18.049967 -32.126437   7.121324  28.909151  0.678206\n"
     ]
    }
   ],
   "source": [
    "print(Data.head(10))\n"
   ]
  },
  {
   "cell_type": "markdown",
   "metadata": {},
   "source": [
    "Task 3 - PCA Scatter plot and interpretation (15 marks) Make a scatter plot of the first two principal components. Use small dots as markers. Color the dots according to the dependent variable. Use different colors for all discrete values of the dependent variable. Add a legend to the plot that explains which color is associated with which value of the dependent variable. Label the axes accordingly.\n",
    "\n",
    "Interpret the findings: By visual inspection, which principal component gives a better separation of the dependent variable? Justify your answer. Three sentences maximum"
   ]
  },
  {
   "cell_type": "code",
   "execution_count": 52,
   "metadata": {},
   "outputs": [
    {
     "data": {
      "text/plain": [
       "Text(0, 0.5, 'PC2')"
      ]
     },
     "execution_count": 52,
     "metadata": {},
     "output_type": "execute_result"
    },
    {
     "data": {
      "image/png": "[encoded data removed]",
      "text/plain": [
       "<Figure size 504x360 with 1 Axes>"
      ]
     },
     "metadata": {
      "needs_background": "light"
     },
     "output_type": "display_data"
    }
   ],
   "source": [
    "f = plt.figure(figsize=(7,5)) # makes a figure 7 inches wide, 5 inches high\n",
    "ax = f.gca() # instead of plt.gca()\n",
    "xvar = 'PC1'\n",
    "yvar = 'PC2'\n",
    "ax.scatter(Data[xvar], Data[yvar])\n",
    "ax.set_xlabel(xvar, size=17)\n",
    "ax.set_ylabel(yvar, size=18)"
   ]
  },
  {
   "cell_type": "code",
   "execution_count": 36,
   "metadata": {},
   "outputs": [
    {
     "data": {
      "text/plain": [
       "Text(0, 0.5, 'PC3')"
      ]
     },
     "execution_count": 36,
     "metadata": {},
     "output_type": "execute_result"
    },
    {
     "data": {
      "image/png": "[encoded data removed]",
      "text/plain": [
       "<Figure size 504x360 with 1 Axes>"
      ]
     },
     "metadata": {
      "needs_background": "light"
     },
     "output_type": "display_data"
    }
   ],
   "source": [
    "f = plt.figure(figsize=(7,5)) # makes a figure 7 inches wide, 5 inches high\n",
    "ax = f.gca() # instead of plt.gca()\n",
    "xvar = 'PC2'\n",
    "yvar = 'PC3'\n",
    "ax.scatter(Data[xvar], Data[yvar])\n",
    "ax.set_xlabel(xvar, size=17)\n",
    "ax.set_ylabel(yvar, size=18)"
   ]
  },
  {
   "cell_type": "code",
   "execution_count": 37,
   "metadata": {},
   "outputs": [
    {
     "data": {
      "text/plain": [
       "Text(0, 0.5, 'PC4')"
      ]
     },
     "execution_count": 37,
     "metadata": {},
     "output_type": "execute_result"
    },
    {
     "data": {
      "image/png": "[encoded data removed]",
      "text/plain": [
       "<Figure size 504x360 with 1 Axes>"
      ]
     },
     "metadata": {
      "needs_background": "light"
     },
     "output_type": "display_data"
    }
   ],
   "source": [
    "f = plt.figure(figsize=(7,5)) \n",
    "ax = f.gca() # instead of plt.gca()\n",
    "xvar = 'PC3'\n",
    "yvar = 'PC4'\n",
    "ax.scatter(Data[xvar], Data[yvar])\n",
    "ax.set_xlabel(xvar, size=17)\n",
    "ax.set_ylabel(yvar, size=18)"
   ]
  },
  {
   "cell_type": "code",
   "execution_count": 38,
   "metadata": {},
   "outputs": [
    {
     "data": {
      "text/plain": [
       "Text(0, 0.5, 'PC5')"
      ]
     },
     "execution_count": 38,
     "metadata": {},
     "output_type": "execute_result"
    },
    {
     "data": {
      "image/png": "[encoded data removed]",
      "text/plain": [
       "<Figure size 504x360 with 1 Axes>"
      ]
     },
     "metadata": {
      "needs_background": "light"
     },
     "output_type": "display_data"
    }
   ],
   "source": [
    "f = plt.figure(figsize=(7,5)) \n",
    "ax = f.gca() # instead of plt.gca()\n",
    "xvar = 'PC4'\n",
    "yvar = 'PC5'\n",
    "ax.scatter(Data[xvar], Data[yvar])\n",
    "ax.set_xlabel(xvar, size=17)\n",
    "ax.set_ylabel('PC5', size=18)"
   ]
  },
  {
   "cell_type": "code",
   "execution_count": 39,
   "metadata": {},
   "outputs": [
    {
     "data": {
      "text/plain": [
       "Text(0, 0.5, 'PC5')"
      ]
     },
     "execution_count": 39,
     "metadata": {},
     "output_type": "execute_result"
    },
    {
     "data": {
      "image/png": "[encoded data removed]",
      "text/plain": [
       "<Figure size 504x360 with 1 Axes>"
      ]
     },
     "metadata": {
      "needs_background": "light"
     },
     "output_type": "display_data"
    }
   ],
   "source": [
    "f = plt.figure(figsize=(7,5)) \n",
    "ax = f.gca() # instead of plt.gca()\n",
    "xvar = 'PC5'\n",
    "yvar = 'PC6'\n",
    "ax.scatter(Data[xvar], Data[yvar])\n",
    "ax.set_xlabel(xvar, size=17)\n",
    "ax.set_ylabel('PC5', size=18)"
   ]
  },
  {
   "cell_type": "code",
   "execution_count": 40,
   "metadata": {},
   "outputs": [
    {
     "data": {
      "text/plain": [
       "Text(0, 0.5, 'PC7')"
      ]
     },
     "execution_count": 40,
     "metadata": {},
     "output_type": "execute_result"
    },
    {
     "data": {
      "image/png": "[encoded data removed]",
      "text/plain": [
       "<Figure size 504x360 with 1 Axes>"
      ]
     },
     "metadata": {
      "needs_background": "light"
     },
     "output_type": "display_data"
    }
   ],
   "source": [
    "f = plt.figure(figsize=(7,5)) \n",
    "ax = f.gca() # instead of plt.gca()\n",
    "xvar = 'PC6'\n",
    "yvar = 'PC7'\n",
    "ax.scatter(Data[xvar], Data[yvar])\n",
    "ax.set_xlabel(xvar, size=17)\n",
    "ax.set_ylabel(yvar, size=18)"
   ]
  },
  {
   "cell_type": "code",
   "execution_count": 41,
   "metadata": {},
   "outputs": [
    {
     "name": "stdout",
     "output_type": "stream",
     "text": [
      "(768, 2)\n"
     ]
    }
   ],
   "source": [
    "a = Data.iloc[:, :2]\n",
    "b = Data.iloc[:, 1:2].values\n",
    "print(a.shape)"
   ]
  },
  {
   "cell_type": "markdown",
   "metadata": {},
   "source": [
    "Task 4 \n",
    "Covariance/correlation matrix and interpretation (20 marks) Plot the covariance/correlation matrix as an image. Use a divergent colormap and center it on zero. Display a colorbar. Label each row and column according to the feature they represent, i.e. set the xticklabels and yticklabels accordingly. Rotate the labels on the columns by 90 degress to make sure they are legible.\n",
    "\n",
    "Interpret the result: Name the three pairs of features with the highest correlation"
   ]
  },
  {
   "cell_type": "code",
   "execution_count": 42,
   "metadata": {},
   "outputs": [
    {
     "name": "stdout",
     "output_type": "stream",
     "text": [
      "Covariance matrix\n",
      "                     no. pregnancies  blood glucose level  blood pressure  \\\n",
      "no. pregnancies            11.354056            13.947131        9.214538   \n",
      "blood glucose level        13.947131          1022.248314       94.430956   \n",
      "blood pressure              9.214538            94.430956      374.647271   \n",
      "thickness of skin          -4.390041            29.239183       64.029396   \n",
      "insulin level             -28.555231          1220.935799      198.378412   \n",
      "body mass index             0.469774            55.726987       43.004695   \n",
      "Age                        21.570620            99.082805       54.523453   \n",
      "\n",
      "                     thickness of skin  insulin level  body mass index  \\\n",
      "no. pregnancies              -4.390041     -28.555231         0.469774   \n",
      "blood glucose level          29.239183    1220.935799        55.726987   \n",
      "blood pressure               64.029396     198.378412        43.004695   \n",
      "thickness of skin           254.473245     802.979941        49.373869   \n",
      "insulin level               802.979941   13281.180078       179.775172   \n",
      "body mass index              49.373869     179.775172        62.159984   \n",
      "Age                         -21.381023     -57.143290         3.360330   \n",
      "\n",
      "                            Age  \n",
      "no. pregnancies       21.570620  \n",
      "blood glucose level   99.082805  \n",
      "blood pressure        54.523453  \n",
      "thickness of skin    -21.381023  \n",
      "insulin level        -57.143290  \n",
      "body mass index        3.360330  \n",
      "Age                  138.303046  \n"
     ]
    }
   ],
   "source": [
    "#Covariance/ correlation matrix and interpretation:\n",
    "\n",
    "print(\"Covariance matrix\")\n",
    "b = X.cov()\n",
    "print(b)"
   ]
  },
  {
   "cell_type": "code",
   "execution_count": 43,
   "metadata": {},
   "outputs": [],
   "source": [
    "c = X.corr()"
   ]
  },
  {
   "cell_type": "code",
   "execution_count": 44,
   "metadata": {},
   "outputs": [
    {
     "data": {
      "text/plain": [
       "<matplotlib.colorbar.Colorbar at 0x1e74b8141f0>"
      ]
     },
     "execution_count": 44,
     "metadata": {},
     "output_type": "execute_result"
    },
    {
     "data": {
      "image/png": "[encoded data removed]",
      "text/plain": [
       "<Figure size 288x432 with 1 Axes>"
      ]
     },
     "metadata": {
      "needs_background": "light"
     },
     "output_type": "display_data"
    },
    {
     "data": {
      "image/png": "[encoded data removed]",
      "text/plain": [
       "<Figure size 432x288 with 2 Axes>"
      ]
     },
     "metadata": {
      "needs_background": "light"
     },
     "output_type": "display_data"
    }
   ],
   "source": [
    "f = plt.figure(figsize=(4,6))\n",
    "ax = f.gca()\n",
    "ax.imshow(c.values)\n",
    "f = plt.figure()\n",
    "ax = f.gca()\n",
    "img = ax.imshow(a) # diverging colormaps, since randn varries around mean zero\n",
    "plt.colorbar(img)"
   ]
  },
  {
   "cell_type": "code",
   "execution_count": 45,
   "metadata": {},
   "outputs": [
    {
     "data": {
      "text/plain": [
       "<matplotlib.image.AxesImage at 0x1e74a495d00>"
      ]
     },
     "execution_count": 45,
     "metadata": {},
     "output_type": "execute_result"
    },
    {
     "data": {
      "image/png": "[encoded data removed]",
      "text/plain": [
       "<Figure size 288x432 with 1 Axes>"
      ]
     },
     "metadata": {
      "needs_background": "light"
     },
     "output_type": "display_data"
    }
   ],
   "source": [
    "f = plt.figure(figsize=(4,6))\n",
    "ax = f.gca()\n",
    "ax.imshow(b.values)"
   ]
  },
  {
   "cell_type": "code",
   "execution_count": 46,
   "metadata": {},
   "outputs": [
    {
     "data": {
      "text/plain": [
       "<matplotlib.colorbar.Colorbar at 0x1e749746400>"
      ]
     },
     "execution_count": 46,
     "metadata": {},
     "output_type": "execute_result"
    },
    {
     "data": {
      "image/png": "[encoded data removed]",
      "text/plain": [
       "<Figure size 432x288 with 2 Axes>"
      ]
     },
     "metadata": {
      "needs_background": "light"
     },
     "output_type": "display_data"
    }
   ],
   "source": [
    "f = plt.figure()\n",
    "ax = f.gca()\n",
    "img = ax.imshow(b) # diverging colormaps, since randn varries around mean zero\n",
    "plt.colorbar(img)"
   ]
  },
  {
   "cell_type": "markdown",
   "metadata": {},
   "source": [
    "Task 5 - component matrix and interpretation (20 marks) Plot the PCA component matrix as an image. Use a diverging colormap. Center it on zero. Display a colorbar. Use labels for rows and columns to indicate which PC or feature the row or column refers to. Make sure all labels are legible.\n",
    "\n",
    "Interpret the component matrix, taking your observation from the scatter plot into account. Which features are most likely to be correlated with the outcome? Justify your answer. Five sentences maximum"
   ]
  },
  {
   "cell_type": "code",
   "execution_count": 47,
   "metadata": {},
   "outputs": [],
   "source": [
    "#Component matrix and interpretation\n",
    "\n",
    "#pca.components \n",
    "#X.comp()\n",
    "\n"
   ]
  },
  {
   "cell_type": "markdown",
   "metadata": {},
   "source": [
    "Task 6 - Scree plot and interpretation (10 marks) Plot the explained variance ratio against the number of Principal Components (\"scree plot\"). Use 'x' as a marker and a dashed line, both colored black. Label the axes accordingly. Set the y-axis limit such that it covers the whole range of values, starting at zero.\n",
    "\n",
    "Interpret the findings: What fraction of the total variance do the first two PCs explain? How many PCs are required to explain 95% of the variance? Feel free to use extra code to provide exact answers"
   ]
  },
  {
   "cell_type": "code",
   "execution_count": 48,
   "metadata": {},
   "outputs": [
    {
     "name": "stdout",
     "output_type": "stream",
     "text": [
      "[1.34565691e+04 9.32759510e+02 3.90577671e+02 1.98181248e+02\n",
      " 1.12688812e+02 4.58292548e+01 7.76040078e+00]\n"
     ]
    },
    {
     "data": {
      "text/plain": [
       "Text(0, 0.5, 'Y Axis')"
      ]
     },
     "execution_count": 48,
     "metadata": {},
     "output_type": "execute_result"
    },
    {
     "data": {
      "image/png": "[encoded data removed]",
      "text/plain": [
       "<Figure size 432x288 with 1 Axes>"
      ]
     },
     "metadata": {
      "needs_background": "light"
     },
     "output_type": "display_data"
    }
   ],
   "source": [
    "print(pca.explained_variance_)\n",
    "\n",
    "plt.plot(pca.explained_variance_,'ro-', linewidth=2, color = \"black\", marker = 'x')\n",
    "plt.xlabel('X Axis')\n",
    "plt.ylabel('Y Axis')"
   ]
  },
  {
   "cell_type": "code",
   "execution_count": 53,
   "metadata": {},
   "outputs": [
    {
     "data": {
      "text/plain": [
       "\"\\nTotal variance do first two PCs explain\\n The  total of 5PCs is required for the 95 percent of variance \\nInterpretation: (replace 'X' with your answer).\\n\\nThe first two principal components explain X % of the variance.\\n\\nTo explain 95 % of the total variance X principal components are required .\""
      ]
     },
     "execution_count": 53,
     "metadata": {},
     "output_type": "execute_result"
    }
   ],
   "source": [
    "'''\n",
    "Total variance do first two PCs explain\n",
    " The  total of 5PCs is required for the 95 percent of variance \n",
    "Interpretation: (replace 'X' with your answer).\n",
    "\n",
    "The first two principal components explain X % of the variance.\n",
    "\n",
    "To explain 95 % of the total variance X principal components are required .'''"
   ]
  },
  {
   "cell_type": "code",
   "execution_count": null,
   "metadata": {},
   "outputs": [],
   "source": []
  }
 ],
 "metadata": {
  "kernelspec": {
   "display_name": "Python 3",
   "language": "python",
   "name": "python3"
  },
  "language_info": {
   "codemirror_mode": {
    "name": "ipython",
    "version": 3
   },
   "file_extension": ".py",
   "mimetype": "text/x-python",
   "name": "python",
   "nbconvert_exporter": "python",
   "pygments_lexer": "ipython3",
   "version": "3.8.3"
  }
 },
 "nbformat": 4,
 "nbformat_minor": 4
}
